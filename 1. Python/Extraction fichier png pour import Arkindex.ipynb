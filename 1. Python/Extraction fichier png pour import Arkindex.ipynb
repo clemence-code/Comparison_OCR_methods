{
 "cells": [
  {
   "cell_type": "code",
   "execution_count": null,
   "id": "861a939f",
   "metadata": {},
   "outputs": [],
   "source": [
    "import os\n",
    "import shutil\n",
    "\n",
    "# === À PERSONNALISER ===\n",
    "DOSSIER_SOURCE = r\"C:\\2. Stage\\2. Catégorie des fichiers\\1. Calligraphie classique lisible\"\n",
    "DOSSIER_DESTINATION = r\"C:\\2. Stage\\PNGs_regroupés\"\n",
    "\n",
    "# Crée le dossier destination s’il n’existe pas\n",
    "os.makedirs(DOSSIER_DESTINATION, exist_ok=True)\n",
    "\n",
    "def nom_unique(destination, nom_fichier):\n",
    "    base, ext = os.path.splitext(nom_fichier)\n",
    "    compteur = 1\n",
    "    nouveau_nom = nom_fichier\n",
    "    while os.path.exists(os.path.join(destination, nouveau_nom)):\n",
    "        nouveau_nom = f\"{base}_{compteur}{ext}\"\n",
    "        compteur += 1\n",
    "    return nouveau_nom\n",
    "\n",
    "for root, dirs, files in os.walk(DOSSIER_SOURCE):\n",
    "    for file in files:\n",
    "        if file.lower().endswith((\".png\", \".pnj\")):\n",
    "            chemin_source = os.path.join(root, file)\n",
    "            nom_fichier_unique = nom_unique(DOSSIER_DESTINATION, file)\n",
    "            chemin_destination = os.path.join(DOSSIER_DESTINATION, nom_fichier_unique)\n",
    "\n",
    "            try:\n",
    "                shutil.copy2(chemin_source, chemin_destination)\n",
    "                print(f\"✅ Copié : {chemin_source} → {chemin_destination}\")\n",
    "            except Exception as e:\n",
    "                print(f\"❌ Erreur lors de la copie de {file} : {e}\")\n"
   ]
  }
 ],
 "metadata": {
  "kernelspec": {
   "display_name": "base",
   "language": "python",
   "name": "python3"
  },
  "language_info": {
   "codemirror_mode": {
    "name": "ipython",
    "version": 3
   },
   "file_extension": ".py",
   "mimetype": "text/x-python",
   "name": "python",
   "nbconvert_exporter": "python",
   "pygments_lexer": "ipython3",
   "version": "3.12.7"
  }
 },
 "nbformat": 4,
 "nbformat_minor": 5
}
