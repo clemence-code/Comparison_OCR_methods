{
 "cells": [
  {
   "cell_type": "code",
   "execution_count": null,
   "id": "93dbf6ff",
   "metadata": {},
   "outputs": [],
   "source": [
    "import fitz  # PyMuPDF\n",
    "import os\n",
    "\n",
    "def extraire_pdfs_dossier_vers_txt(dossier_pdf, dossier_sortie_txt):\n",
    "    # Créer le dossier de sortie s'il n'existe pas\n",
    "    os.makedirs(dossier_sortie_txt, exist_ok=True)\n",
    "\n",
    "    fichiers_pdf = [f for f in os.listdir(dossier_pdf) if f.lower().endswith('.pdf')]\n",
    "\n",
    "    for nom_fichier_pdf in fichiers_pdf:\n",
    "        chemin_pdf = os.path.join(dossier_pdf, nom_fichier_pdf)\n",
    "        nom_fichier_txt = os.path.splitext(nom_fichier_pdf)[0] + \".txt\"\n",
    "        chemin_txt = os.path.join(dossier_sortie_txt, nom_fichier_txt)\n",
    "\n",
    "        try:\n",
    "            doc = fitz.open(chemin_pdf)\n",
    "            texte_total = []\n",
    "\n",
    "            for page_num, page in enumerate(doc, start=1):\n",
    "                texte = page.get_text()\n",
    "                texte_total.append(f\"\\n--- Page {page_num} ---\\n{texte}\")\n",
    "\n",
    "            doc.close()\n",
    "\n",
    "            with open(chemin_txt, 'w', encoding='utf-8') as fichier_txt:\n",
    "                fichier_txt.write('\\n'.join(texte_total))\n",
    "\n",
    "            print(f\"✅ Texte extrait : {nom_fichier_pdf} → {nom_fichier_txt}\")\n",
    "\n",
    "        except Exception as e:\n",
    "            print(f\"❌ Erreur pour {nom_fichier_pdf} : {e}\")\n",
    "\n",
    "dossier_pdf = r\"C:\\2. Stage\\1. Corpus Ground truth\\Comparaison outils OCR Clémence\\3. Arkindex\\2. Calligraphie partiellement illisible\"\n",
    "dossier_sortie_txt = r\"C:\\2. Stage\\1. Corpus Ground truth\\3. Arkindex extrait\"\n",
    "extraire_pdfs_dossier_vers_txt(dossier_pdf, dossier_sortie_txt)\n"
   ]
  }
 ],
 "metadata": {
  "kernelspec": {
   "display_name": "base",
   "language": "python",
   "name": "python3"
  },
  "language_info": {
   "codemirror_mode": {
    "name": "ipython",
    "version": 3
   },
   "file_extension": ".py",
   "mimetype": "text/x-python",
   "name": "python",
   "nbconvert_exporter": "python",
   "pygments_lexer": "ipython3",
   "version": "3.12.7"
  }
 },
 "nbformat": 4,
 "nbformat_minor": 5
}
