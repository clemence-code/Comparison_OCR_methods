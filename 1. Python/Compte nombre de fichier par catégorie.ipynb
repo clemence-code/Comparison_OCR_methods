{
 "cells": [
  {
   "cell_type": "code",
   "execution_count": null,
   "id": "93dbf6ff",
   "metadata": {},
   "outputs": [],
   "source": [
    "import os\n",
    "import pandas as pd\n",
    "\n",
    "def compter_png_par_sous_sous_dossier(dossier_principal):\n",
    "    donnees = []\n",
    "\n",
    "    for racine, sous_dossiers, fichiers in os.walk(dossier_principal):\n",
    "        # Filtrer uniquement les dossiers ayant un parent (i.e. des sous-sous-dossiers)\n",
    "        for sous_dossier in sous_dossiers:\n",
    "            chemin_sous_dossier = os.path.join(racine, sous_dossier)\n",
    "            # Chercher les fichiers .png dans ce sous-sous-dossier uniquement (pas récursivement)\n",
    "            fichiers_png = [f for f in os.listdir(chemin_sous_dossier) if f.lower().endswith('.png') and os.path.isfile(os.path.join(chemin_sous_dossier, f))]\n",
    "            nom_parent = os.path.basename(racine)\n",
    "            donnees.append({\n",
    "                'Sous-dossier': nom_parent,\n",
    "                'Sous-sous-dossier': sous_dossier,\n",
    "                'Nombre de PNG': len(fichiers_png)\n",
    "            })\n",
    "\n",
    "    # Convertir en DataFrame\n",
    "    df = pd.DataFrame(donnees)\n",
    "\n",
    "    # Exporter en Excel\n",
    "    df.to_excel('compte_png_par_dossier.xlsx', index=False)\n",
    "\n",
    "    print(\"Fichier Excel généré : compte_png_par_dossier.xlsx\")\n",
    "\n",
    "# Exemple d'utilisation\n",
    "chemin_du_dossier = r\"C:\\2. Stage\\7. Catégorie des fichiers\"\n",
    "compter_png_par_sous_sous_dossier(chemin_du_dossier)\n"
   ]
  }
 ],
 "metadata": {
  "kernelspec": {
   "display_name": "base",
   "language": "python",
   "name": "python3"
  },
  "language_info": {
   "codemirror_mode": {
    "name": "ipython",
    "version": 3
   },
   "file_extension": ".py",
   "mimetype": "text/x-python",
   "name": "python",
   "nbconvert_exporter": "python",
   "pygments_lexer": "ipython3",
   "version": "3.12.7"
  }
 },
 "nbformat": 4,
 "nbformat_minor": 5
}
