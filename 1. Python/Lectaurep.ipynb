{
 "cells": [
  {
   "cell_type": "code",
   "execution_count": 3,
   "id": "6c1f1e41",
   "metadata": {},
   "outputs": [
    {
     "name": "stdout",
     "output_type": "stream",
     "text": [
      "Found existing installation: numpy 1.26.4\n",
      "Uninstalling numpy-1.26.4:\n",
      "  Successfully uninstalled numpy-1.26.4\n",
      "Collecting numpy==1.23.5\n",
      "  Using cached numpy-1.23.5-cp310-cp310-win_amd64.whl.metadata (2.3 kB)\n",
      "Using cached numpy-1.23.5-cp310-cp310-win_amd64.whl (14.6 MB)\n",
      "Installing collected packages: numpy\n",
      "Successfully installed numpy-1.23.5\n"
     ]
    }
   ],
   "source": [
    "import sys\n",
    "!{sys.executable} -m pip uninstall -y numpy\n",
    "!{sys.executable} -m pip install numpy==1.23.5 --force-reinstall\n"
   ]
  },
  {
   "cell_type": "code",
   "execution_count": 4,
   "id": "359582fa",
   "metadata": {},
   "outputs": [
    {
     "name": "stderr",
     "output_type": "stream",
     "text": [
      "c:\\Users\\cleme\\anaconda3\\envs\\kraken-env\\lib\\site-packages\\tqdm\\auto.py:21: TqdmWarning: IProgress not found. Please update jupyter and ipywidgets. See https://ipywidgets.readthedocs.io/en/stable/user_install.html\n",
      "  from .autonotebook import tqdm as notebook_tqdm\n",
      "scikit-learn version 1.2.2 is not supported. Minimum required version: 0.17. Maximum required version: 1.1.2. Disabling scikit-learn conversion API.\n"
     ]
    }
   ],
   "source": [
    "import os\n",
    "import requests\n",
    "from pathlib import Path\n",
    "from PIL import Image\n",
    "from kraken import rpred, pageseg, binarization\n",
    "from kraken.lib.models import load_any\n",
    "\n",
    "# 1. Télécharger le modèle LECTAUREP si non présent\n",
    "def download_model(url, output_path):\n",
    "    if Path(output_path).exists():\n",
    "        print(f\"✔️ Modèle déjà présent : {output_path}\")\n",
    "        return\n",
    "    print(\"⬇️ Téléchargement du modèle LECTAUREP...\")\n",
    "    r = requests.get(url)\n",
    "    if r.status_code == 200:\n",
    "        with open(output_path, 'wb') as f:\n",
    "            f.write(r.content)\n",
    "        print(f\"✅ Modèle téléchargé dans : {output_path}\")\n",
    "    else:\n",
    "        raise Exception(f\"❌ Échec du téléchargement : {r.status_code}\")\n",
    "\n",
    "# 2. Traitement OCR d’une seule image\n",
    "def transcribe_image(image_path, model, output_txt_path):\n",
    "    print(f\"🔍 Traitement : {image_path.name}\")\n",
    "    img = Image.open(image_path)\n",
    "    bin_img = binarization.nlbin(img)\n",
    "    lines = pageseg.segment(bin_img)\n",
    "    predictions = rpred.rpred(model, bin_img, lines)\n",
    "\n",
    "    with open(output_txt_path, 'w', encoding='utf-8') as f:\n",
    "        for line in predictions:\n",
    "            f.write(line.prediction + '\\n')\n",
    "    print(f\"📝 Transcription enregistrée : {output_txt_path.name}\")\n",
    "\n",
    "# 3. Pipeline complet\n",
    "def main():\n",
    "    model_url = \"https://github.com/lectaurep/lectaurep_base_model/raw/master/lectaurep_base.mlmodel\"\n",
    "    model_pa_\n"
   ]
  },
  {
   "cell_type": "code",
   "execution_count": 2,
   "id": "b3c6fb76",
   "metadata": {},
   "outputs": [
    {
     "name": "stdout",
     "output_type": "stream",
     "text": [
      "✔️ Modèle déjà présent : lectaurep_base.mlmodel\n"
     ]
    },
    {
     "name": "stderr",
     "output_type": "stream",
     "text": [
      "🔠 Transcription: 100%|██████████| 3/3 [00:59<00:00, 19.98s/image]"
     ]
    },
    {
     "name": "stdout",
     "output_type": "stream",
     "text": [
      "\n",
      "🎉 Toutes les transcriptions ont été générées dans : C:\\Users\\cleme\\kraken-env\\transcriptions\n"
     ]
    },
    {
     "name": "stderr",
     "output_type": "stream",
     "text": [
      "\n"
     ]
    }
   ],
   "source": [
    "import os\n",
    "import requests\n",
    "from pathlib import Path\n",
    "from PIL import Image\n",
    "from tqdm import tqdm\n",
    "from kraken import rpred, pageseg, binarization\n",
    "from kraken.lib.models import load_any\n",
    "\n",
    "def download_model(url, output_path):\n",
    "    if Path(output_path).exists():\n",
    "        print(f\"✔️ Modèle déjà présent : {output_path}\")\n",
    "        return\n",
    "    print(\"⬇️ Téléchargement du modèle...\")\n",
    "    r = requests.get(url)\n",
    "    if r.status_code == 200:\n",
    "        with open(output_path, 'wb') as f:\n",
    "            f.write(r.content)\n",
    "        print(f\"✅ Modèle sauvegardé dans : {output_path}\")\n",
    "    else:\n",
    "        raise Exception(f\"❌ Échec du téléchargement ({r.status_code})\")\n",
    "\n",
    "def transcribe_image(image_path, model, output_txt_path):\n",
    "    img = Image.open(image_path)\n",
    "    bin_img = binarization.nlbin(img)\n",
    "    lines = pageseg.segment(bin_img)\n",
    "    predictions = rpred.rpred(model, bin_img, lines)\n",
    "\n",
    "    with open(output_txt_path, 'w', encoding='utf-8') as f:\n",
    "        for line in predictions:\n",
    "            f.write(line.prediction + '\\n')\n",
    "\n",
    "def main():\n",
    "    model_url = \"https://github.com/lectaurep/lectaurep_base_model/raw/master/lectaurep_base.mlmodel\"\n",
    "    model_path = \"lectaurep_base.mlmodel\"\n",
    "\n",
    "    input_folder = Path(r\"C:\\2. Stage\\4. Cahiers\\16b_17\")\n",
    "    output_base = Path(\"transcriptions\")\n",
    "    output_base.mkdir(exist_ok=True)\n",
    "\n",
    "    download_model(model_url, model_path)\n",
    "    model = load_any(model_path)\n",
    "\n",
    "    # Recherche récursive dans tous les sous-dossiers\n",
    "    images = sorted(input_folder.rglob(\"*.jpg\"))\n",
    "    if not images:\n",
    "        print(f\"❌ Aucune image .png trouvée dans : {input_folder}\")\n",
    "        return\n",
    "\n",
    "    for image_path in tqdm(images, desc=\"🔠 Transcription\", unit=\"image\"):\n",
    "        # Préserver l’arborescence relative\n",
    "        relative_path = image_path.relative_to(input_folder)\n",
    "        output_path = output_base / relative_path.with_suffix(\".txt\")\n",
    "        output_path.parent.mkdir(parents=True, exist_ok=True)\n",
    "\n",
    "        transcribe_image(image_path, model, output_path)\n",
    "\n",
    "    print(f\"\\n🎉 Toutes les transcriptions ont été générées dans : {output_base.resolve()}\")\n",
    "\n",
    "if __name__ == \"__main__\":\n",
    "    main()\n"
   ]
  }
 ],
 "metadata": {
  "kernelspec": {
   "display_name": "kraken-env",
   "language": "python",
   "name": "python3"
  },
  "language_info": {
   "codemirror_mode": {
    "name": "ipython",
    "version": 3
   },
   "file_extension": ".py",
   "mimetype": "text/x-python",
   "name": "python",
   "nbconvert_exporter": "python",
   "pygments_lexer": "ipython3",
   "version": "3.10.16"
  }
 },
 "nbformat": 4,
 "nbformat_minor": 5
}
