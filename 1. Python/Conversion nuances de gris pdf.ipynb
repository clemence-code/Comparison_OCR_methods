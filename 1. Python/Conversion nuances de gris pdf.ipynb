{
 "cells": [
  {
   "cell_type": "code",
   "execution_count": 6,
   "id": "9ee7a1b8",
   "metadata": {},
   "outputs": [
    {
     "name": "stdout",
     "output_type": "stream",
     "text": [
      "Collecting PyMuPDF\n",
      "  Downloading pymupdf-1.26.0-cp39-abi3-win_amd64.whl.metadata (3.4 kB)\n",
      "Downloading pymupdf-1.26.0-cp39-abi3-win_amd64.whl (18.5 MB)\n",
      "   ---------------------------------------- 0.0/18.5 MB ? eta -:--:--\n",
      "   ------- -------------------------------- 3.4/18.5 MB 19.5 MB/s eta 0:00:01\n",
      "   ----------------- ---------------------- 8.1/18.5 MB 19.9 MB/s eta 0:00:01\n",
      "   -------------------------- ------------- 12.3/18.5 MB 20.1 MB/s eta 0:00:01\n",
      "   ----------------------------------- ---- 16.5/18.5 MB 20.0 MB/s eta 0:00:01\n",
      "   ---------------------------------------- 18.5/18.5 MB 18.7 MB/s eta 0:00:00\n",
      "Installing collected packages: PyMuPDF\n",
      "Successfully installed PyMuPDF-1.26.0\n",
      "Note: you may need to restart the kernel to use updated packages.\n"
     ]
    },
    {
     "name": "stderr",
     "output_type": "stream",
     "text": [
      "  WARNING: The script pymupdf.exe is installed in 'c:\\Users\\cleme\\.pyenv\\pyenv-win\\versions\\3.13.1\\Scripts' which is not on PATH.\n",
      "  Consider adding this directory to PATH or, if you prefer to suppress this warning, use --no-warn-script-location.\n",
      "\n",
      "[notice] A new release of pip is available: 25.0.1 -> 25.1.1\n",
      "[notice] To update, run: c:\\Users\\cleme\\.pyenv\\pyenv-win\\versions\\3.13.1\\python.exe -m pip install --upgrade pip\n"
     ]
    }
   ],
   "source": [
    "pip install PyMuPDF\n"
   ]
  },
  {
   "cell_type": "code",
   "execution_count": 8,
   "id": "ffb2974a",
   "metadata": {},
   "outputs": [
    {
     "name": "stdout",
     "output_type": "stream",
     "text": [
      "✔️ OCR prêt : C:\\2. Stage\\8. A convertir\\Bordeaux -- 1717 -- Exports&Imports -- AD33_C_4268.pdf → C:\\2. Stage\\9. Convert\\.\\Bordeaux -- 1717 -- Exports&Imports -- AD33_C_4268_page1.png\n",
      "✔️ OCR prêt : C:\\2. Stage\\8. A convertir\\Bordeaux -- 1717 -- Exports&Imports -- AD33_C_4268.pdf → C:\\2. Stage\\9. Convert\\.\\Bordeaux -- 1717 -- Exports&Imports -- AD33_C_4268_page2.png\n",
      "✔️ OCR prêt : C:\\2. Stage\\8. A convertir\\Bordeaux -- 1717 -- Exports&Imports -- AD33_C_4268.pdf → C:\\2. Stage\\9. Convert\\.\\Bordeaux -- 1717 -- Exports&Imports -- AD33_C_4268_page3.png\n",
      "✔️ OCR prêt : C:\\2. Stage\\8. A convertir\\Bordeaux -- 1717 -- Exports&Imports -- AD33_C_4268.pdf → C:\\2. Stage\\9. Convert\\.\\Bordeaux -- 1717 -- Exports&Imports -- AD33_C_4268_page4.png\n",
      "✔️ OCR prêt : C:\\2. Stage\\8. A convertir\\Bordeaux -- 1717 -- Exports&Imports -- AD33_C_4268.pdf → C:\\2. Stage\\9. Convert\\.\\Bordeaux -- 1717 -- Exports&Imports -- AD33_C_4268_page5.png\n",
      "✔️ OCR prêt : C:\\2. Stage\\8. A convertir\\Bordeaux -- 1717 -- Exports&Imports -- AD33_C_4268.pdf → C:\\2. Stage\\9. Convert\\.\\Bordeaux -- 1717 -- Exports&Imports -- AD33_C_4268_page6.png\n",
      "✔️ OCR prêt : C:\\2. Stage\\8. A convertir\\Bordeaux -- 1717 -- Exports&Imports -- AD33_C_4268.pdf → C:\\2. Stage\\9. Convert\\.\\Bordeaux -- 1717 -- Exports&Imports -- AD33_C_4268_page7.png\n",
      "✔️ OCR prêt : C:\\2. Stage\\8. A convertir\\Bordeaux -- 1717 -- Exports&Imports -- AD33_C_4268.pdf → C:\\2. Stage\\9. Convert\\.\\Bordeaux -- 1717 -- Exports&Imports -- AD33_C_4268_page8.png\n",
      "✔️ OCR prêt : C:\\2. Stage\\8. A convertir\\Bordeaux -- 1717 -- Exports&Imports -- AD33_C_4268.pdf → C:\\2. Stage\\9. Convert\\.\\Bordeaux -- 1717 -- Exports&Imports -- AD33_C_4268_page9.png\n",
      "✔️ OCR prêt : C:\\2. Stage\\8. A convertir\\Bordeaux -- 1717 -- Exports&Imports -- AD33_C_4268.pdf → C:\\2. Stage\\9. Convert\\.\\Bordeaux -- 1717 -- Exports&Imports -- AD33_C_4268_page10.png\n",
      "✔️ OCR prêt : C:\\2. Stage\\8. A convertir\\Bordeaux -- 1717 -- Exports&Imports -- AD33_C_4268.pdf → C:\\2. Stage\\9. Convert\\.\\Bordeaux -- 1717 -- Exports&Imports -- AD33_C_4268_page11.png\n",
      "✔️ OCR prêt : C:\\2. Stage\\8. A convertir\\Bordeaux -- 1717 -- Exports&Imports -- AD33_C_4268.pdf → C:\\2. Stage\\9. Convert\\.\\Bordeaux -- 1717 -- Exports&Imports -- AD33_C_4268_page12.png\n",
      "✔️ OCR prêt : C:\\2. Stage\\8. A convertir\\Bordeaux -- 1717 -- Exports&Imports -- AD33_C_4268.pdf → C:\\2. Stage\\9. Convert\\.\\Bordeaux -- 1717 -- Exports&Imports -- AD33_C_4268_page13.png\n",
      "✔️ OCR prêt : C:\\2. Stage\\8. A convertir\\Bordeaux -- 1717 -- Exports&Imports -- AD33_C_4268.pdf → C:\\2. Stage\\9. Convert\\.\\Bordeaux -- 1717 -- Exports&Imports -- AD33_C_4268_page14.png\n",
      "✔️ OCR prêt : C:\\2. Stage\\8. A convertir\\Bordeaux -- 1717 -- Exports&Imports -- AD33_C_4268.pdf → C:\\2. Stage\\9. Convert\\.\\Bordeaux -- 1717 -- Exports&Imports -- AD33_C_4268_page15.png\n",
      "✔️ OCR prêt : C:\\2. Stage\\8. A convertir\\Bordeaux -- 1717 -- Exports&Imports -- AD33_C_4268.pdf → C:\\2. Stage\\9. Convert\\.\\Bordeaux -- 1717 -- Exports&Imports -- AD33_C_4268_page16.png\n",
      "✔️ OCR prêt : C:\\2. Stage\\8. A convertir\\Bordeaux -- 1717 -- Exports&Imports -- AD33_C_4268.pdf → C:\\2. Stage\\9. Convert\\.\\Bordeaux -- 1717 -- Exports&Imports -- AD33_C_4268_page17.png\n",
      "✔️ OCR prêt : C:\\2. Stage\\8. A convertir\\Bordeaux -- 1717 -- Exports&Imports -- AD33_C_4268.pdf → C:\\2. Stage\\9. Convert\\.\\Bordeaux -- 1717 -- Exports&Imports -- AD33_C_4268_page18.png\n",
      "✔️ OCR prêt : C:\\2. Stage\\8. A convertir\\Bordeaux -- 1717 -- Exports&Imports -- AD33_C_4268.pdf → C:\\2. Stage\\9. Convert\\.\\Bordeaux -- 1717 -- Exports&Imports -- AD33_C_4268_page19.png\n",
      "✔️ OCR prêt : C:\\2. Stage\\8. A convertir\\Bordeaux -- 1717 -- Exports&Imports -- AD33_C_4268.pdf → C:\\2. Stage\\9. Convert\\.\\Bordeaux -- 1717 -- Exports&Imports -- AD33_C_4268_page20.png\n",
      "✔️ OCR prêt : C:\\2. Stage\\8. A convertir\\Bordeaux -- 1717 -- Exports&Imports -- AD33_C_4268.pdf → C:\\2. Stage\\9. Convert\\.\\Bordeaux -- 1717 -- Exports&Imports -- AD33_C_4268_page21.png\n",
      "✔️ OCR prêt : C:\\2. Stage\\8. A convertir\\Bordeaux -- 1717 -- Exports&Imports -- AD33_C_4268.pdf → C:\\2. Stage\\9. Convert\\.\\Bordeaux -- 1717 -- Exports&Imports -- AD33_C_4268_page22.png\n",
      "✔️ OCR prêt : C:\\2. Stage\\8. A convertir\\Bordeaux -- 1717 -- Exports&Imports -- AD33_C_4268.pdf → C:\\2. Stage\\9. Convert\\.\\Bordeaux -- 1717 -- Exports&Imports -- AD33_C_4268_page23.png\n",
      "✔️ OCR prêt : C:\\2. Stage\\8. A convertir\\Bordeaux -- 1717 -- Exports&Imports -- AD33_C_4268.pdf → C:\\2. Stage\\9. Convert\\.\\Bordeaux -- 1717 -- Exports&Imports -- AD33_C_4268_page24.png\n",
      "✔️ OCR prêt : C:\\2. Stage\\8. A convertir\\Bordeaux -- 1717 -- Exports&Imports -- AD33_C_4268.pdf → C:\\2. Stage\\9. Convert\\.\\Bordeaux -- 1717 -- Exports&Imports -- AD33_C_4268_page25.png\n",
      "✔️ OCR prêt : C:\\2. Stage\\8. A convertir\\Bordeaux -- 1717 -- Exports&Imports -- AD33_C_4268.pdf → C:\\2. Stage\\9. Convert\\.\\Bordeaux -- 1717 -- Exports&Imports -- AD33_C_4268_page26.png\n",
      "✔️ OCR prêt : C:\\2. Stage\\8. A convertir\\Bordeaux -- 1717 -- Exports&Imports -- AD33_C_4268.pdf → C:\\2. Stage\\9. Convert\\.\\Bordeaux -- 1717 -- Exports&Imports -- AD33_C_4268_page27.png\n",
      "✔️ OCR prêt : C:\\2. Stage\\8. A convertir\\Bordeaux -- 1717 -- Exports&Imports -- AD33_C_4268.pdf → C:\\2. Stage\\9. Convert\\.\\Bordeaux -- 1717 -- Exports&Imports -- AD33_C_4268_page28.png\n",
      "✔️ OCR prêt : C:\\2. Stage\\8. A convertir\\Bordeaux -- 1717 -- Exports&Imports -- AD33_C_4268.pdf → C:\\2. Stage\\9. Convert\\.\\Bordeaux -- 1717 -- Exports&Imports -- AD33_C_4268_page29.png\n",
      "✔️ OCR prêt : C:\\2. Stage\\8. A convertir\\Bordeaux -- 1717 -- Exports&Imports -- AD33_C_4268.pdf → C:\\2. Stage\\9. Convert\\.\\Bordeaux -- 1717 -- Exports&Imports -- AD33_C_4268_page30.png\n",
      "✔️ OCR prêt : C:\\2. Stage\\8. A convertir\\Bordeaux -- 1717 -- Exports&Imports -- AD33_C_4268.pdf → C:\\2. Stage\\9. Convert\\.\\Bordeaux -- 1717 -- Exports&Imports -- AD33_C_4268_page31.png\n",
      "✔️ OCR prêt : C:\\2. Stage\\8. A convertir\\Bordeaux -- 1717 -- Exports&Imports -- AD33_C_4268.pdf → C:\\2. Stage\\9. Convert\\.\\Bordeaux -- 1717 -- Exports&Imports -- AD33_C_4268_page32.png\n",
      "📄 PDF fusionné enregistré : C:\\2. Stage\\9. Convert\\.\\Bordeaux -- 1717 -- Exports&Imports -- AD33_C_4268_traité.pdf\n"
     ]
    }
   ],
   "source": [
    "import os\n",
    "from PIL import Image, ImageEnhance\n",
    "import fitz  # PyMuPDF\n",
    "\n",
    "def preprocess_images_for_ocr(dossier_entree, dossier_sortie,\n",
    "                              facteur_luminosite=1.2,\n",
    "                              facteur_contraste=1.5,\n",
    "                              format_sortie='PNG',\n",
    "                              dpi=300,\n",
    "                              reconvertir_pdf=True):\n",
    "    \"\"\"\n",
    "    Prétraite les images et PDF (via PyMuPDF) pour l'OCR : niveaux de gris, contraste, luminosité.\n",
    "    Option de reconversion en un PDF unique par fichier.\n",
    "    \"\"\"\n",
    "    for racine, _, fichiers in os.walk(dossier_entree):\n",
    "        for fichier in fichiers:\n",
    "            chemin_entree = os.path.join(racine, fichier)\n",
    "            chemin_relatif = os.path.relpath(racine, dossier_entree)\n",
    "            dossier_cible = os.path.join(dossier_sortie, chemin_relatif)\n",
    "            os.makedirs(dossier_cible, exist_ok=True)\n",
    "\n",
    "            images_finales = []  # Pour la fusion en PDF\n",
    "\n",
    "            try:\n",
    "                if fichier.lower().endswith(('.png', '.jpg', '.jpeg', '.bmp', '.tiff')):\n",
    "                    images = [Image.open(chemin_entree)]\n",
    "                elif fichier.lower().endswith('.pdf'):\n",
    "                    images = []\n",
    "                    with fitz.open(chemin_entree) as doc:\n",
    "                        for page in doc:\n",
    "                            pix = page.get_pixmap(dpi=dpi)\n",
    "                            img = Image.frombytes(\"RGB\", [pix.width, pix.height], pix.samples)\n",
    "                            images.append(img)\n",
    "                else:\n",
    "                    continue  # Fichier non pris en charge\n",
    "\n",
    "                for idx, img in enumerate(images):\n",
    "                    img = img.convert('L')  # Niveaux de gris\n",
    "                    img = ImageEnhance.Brightness(img).enhance(facteur_luminosite)\n",
    "                    img = ImageEnhance.Contrast(img).enhance(facteur_contraste)\n",
    "\n",
    "                    nom_base = os.path.splitext(fichier)[0]\n",
    "                    suffixe_page = f\"_page{idx+1}\" if len(images) > 1 else \"\"\n",
    "                    nom_sortie_img = f\"{nom_base}{suffixe_page}.{format_sortie.lower()}\"\n",
    "                    chemin_sortie_img = os.path.join(dossier_cible, nom_sortie_img)\n",
    "\n",
    "                    img.save(chemin_sortie_img, format=format_sortie)\n",
    "                    print(f\"✔️ prêt : {chemin_entree} → {chemin_sortie_img}\")\n",
    "\n",
    "                    # Pour la fusion finale\n",
    "                    images_finales.append(img.convert('RGB'))\n",
    "\n",
    "                # Fusionner en un seul PDF final\n",
    "                if reconvertir_pdf and images_finales and fichier.lower().endswith('.pdf'):\n",
    "                    chemin_sortie_pdf = os.path.join(dossier_cible, f\"{nom_base}_traité.pdf\")\n",
    "                    images_finales[0].save(chemin_sortie_pdf, save_all=True, append_images=images_finales[1:])\n",
    "                    print(f\"📄 PDF fusionné enregistré : {chemin_sortie_pdf}\")\n",
    "\n",
    "            except Exception as e:\n",
    "                print(f\"❌ Erreur avec {chemin_entree} : {e}\")\n",
    "\n",
    "# Exemple d’utilisation\n",
    "dossier_entree = r\"C:\\2. Stage\\8. A convertir\"\n",
    "dossier_sortie = r\"C:\\2. Stage\\9. Convert\"\n",
    "preprocess_images_for_ocr(dossier_entree, dossier_sortie,\n",
    "                          facteur_luminosite=1.2,\n",
    "                          facteur_contraste=1.5,\n",
    "                          format_sortie='PNG',\n",
    "                          reconvertir_pdf=True)\n"
   ]
  }
 ],
 "metadata": {
  "kernelspec": {
   "display_name": "3.13.1",
   "language": "python",
   "name": "python3"
  },
  "language_info": {
   "codemirror_mode": {
    "name": "ipython",
    "version": 3
   },
   "file_extension": ".py",
   "mimetype": "text/x-python",
   "name": "python",
   "nbconvert_exporter": "python",
   "pygments_lexer": "ipython3",
   "version": "3.13.1"
  }
 },
 "nbformat": 4,
 "nbformat_minor": 5
}
